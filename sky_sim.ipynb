{
 "cells": [
  {
   "cell_type": "code",
   "execution_count": 1,
   "metadata": {},
   "outputs": [],
   "source": [
    "# Determine Andromeda location in ra/dec degrees\n",
    "\n",
    "# from wikipedia\n",
    "ra = '00:42:44.3'\n",
    "dec = '41:16:09'\n",
    "\n",
    "# convert to decimal degrees\n",
    "from math import *\n",
    "\n",
    "d, m, s = dec.split(':')\n",
    "dec = int(d)+int(m)/60+float(s)/3600\n",
    "\n",
    "h, m, s = ra.split(':')\n",
    "ra = 15*(int(h)+int(m)/60+float(s)/3600)\n",
    "ra = ra/cos(dec*pi/180)\n",
    "\n",
    "nsrc = 1_000_000\n",
    "\n",
    "# make 1000 stars within 1 degree of Andromeda\n",
    "from random import *\n",
    "ras = []\n",
    "decs = []\n",
    "for i in range(nsrc):\n",
    "    ras.append(ra + uniform(-1,1))\n",
    "    decs.append(dec + uniform(-1,1))\n",
    "\n",
    "\n",
    "# now write these to a csv file for use by my other program\n",
    "f = open('catalog.csv','w')\n",
    "print(\"id,ra,dec\", file=f)\n",
    "for i in range(nsrc):\n",
    "    print(\"{0:07d}, {1:12f}, {2:12f}\".format(i, ras[i], decs[i]), file=f)"
   ]
  },
  {
   "cell_type": "code",
   "execution_count": null,
   "metadata": {},
   "outputs": [],
   "source": []
  }
 ],
 "metadata": {
  "kernelspec": {
   "display_name": "Python 3",
   "language": "python",
   "name": "python3"
  },
  "language_info": {
   "codemirror_mode": {
    "name": "ipython",
    "version": 3
   },
   "file_extension": ".py",
   "mimetype": "text/x-python",
   "name": "python",
   "nbconvert_exporter": "python",
   "pygments_lexer": "ipython3",
   "version": "3.8.3"
  }
 },
 "nbformat": 4,
 "nbformat_minor": 4
}
